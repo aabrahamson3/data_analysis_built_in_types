{
 "cells": [
  {
   "cell_type": "markdown",
   "metadata": {},
   "source": [
    "# Data analysis in Python using built-in types\n",
    "\n",
    "-----\n",
    "\n",
    "## Learning Objectives\n",
    "\n",
    "* Using the command line to:\n",
    "    + make directories\n",
    "    + download files from internet\n",
    "    + unzip `.zip` files\n",
    "* Import a `.csv` file without [`pandas`](https://pandas.pydata.org/about.html) or [`numpy`](https://www.numpy.org/)\n",
    "* Perform data analysis using built-in types\n",
    "    + working with dates\n",
    "    + sorting dictionaries\n",
    "    + for loops and list comprehension\n",
    "    + visualizing data with [`matplotlib`](https://matplotlib.org/index.html)"
   ]
  },
  {
   "cell_type": "markdown",
   "metadata": {},
   "source": [
    "## Inspect Files in current working directory"
   ]
  },
  {
   "cell_type": "code",
   "execution_count": 1,
   "metadata": {},
   "outputs": [
    {
     "name": "stdout",
     "output_type": "stream",
     "text": [
      "LICENSE             README.md           data_analysis.ipynb\r\n"
     ]
    }
   ],
   "source": [
    "!ls"
   ]
  },
  {
   "cell_type": "markdown",
   "metadata": {},
   "source": [
    "## Create a new `raw_data` directory"
   ]
  },
  {
   "cell_type": "code",
   "execution_count": 2,
   "metadata": {},
   "outputs": [],
   "source": [
    "!mkdir raw_data"
   ]
  },
  {
   "cell_type": "markdown",
   "metadata": {},
   "source": [
    "Let's reinspect our working directory. By typing `ls -l`, we are getting more information about all files and folders such as when things were created."
   ]
  },
  {
   "cell_type": "code",
   "execution_count": 3,
   "metadata": {},
   "outputs": [
    {
     "name": "stdout",
     "output_type": "stream",
     "text": [
      "total 112\r\n",
      "-rw-r--r--  1 tree  staff  35149 Oct 30 14:03 LICENSE\r\n",
      "-rw-r--r--  1 tree  staff    515 Oct 30 14:03 README.md\r\n",
      "-rw-r--r--  1 tree  staff  14264 Oct 30 14:06 data_analysis.ipynb\r\n",
      "drwxr-xr-x  2 tree  staff     64 Oct 30 14:30 \u001b[1m\u001b[36mraw_data\u001b[m\u001b[m\r\n"
     ]
    }
   ],
   "source": [
    "!ls -l"
   ]
  },
  {
   "cell_type": "markdown",
   "metadata": {},
   "source": [
    "## Install Homebrew\n",
    "\n",
    "[`homebrew`](https://brew.sh/) is the package manager for MacOS. This tutorial assumes that you have it installed on your machine.\n",
    "\n",
    "*If not, please uncomment and run the cell below to install `homebrew`.*"
   ]
  },
  {
   "cell_type": "code",
   "execution_count": null,
   "metadata": {},
   "outputs": [],
   "source": [
    "#/usr/bin/ruby -e \"$(curl -fsSL https://raw.githubusercontent.com/Homebrew/install/master/install)\""
   ]
  },
  {
   "cell_type": "markdown",
   "metadata": {},
   "source": [
    "## Download necessary data\n",
    "\n",
    "Let's download [King County, WA property sales data](https://info.kingcounty.gov/assessor/DataDownload/default.aspx) into our newly created `raw_data` directory. We'll be using the [`wget`](https://www.gnu.org/software/wget/) package to download local copies of files from the Internet. \n",
    "\n",
    "The default directory is the current working directory so we need to specify where `wget` should place the file via the `-P` flag.\n",
    "\n",
    "```\n",
    "# <> are placeholders so do not include them in your commands\n",
    "wget <url> -P <file path>\n",
    "```\n",
    "\n",
    "*If you don't have `wget`, uncomment the cell below to have `brew` install it for you.*"
   ]
  },
  {
   "cell_type": "code",
   "execution_count": 4,
   "metadata": {},
   "outputs": [
    {
     "name": "stdout",
     "output_type": "stream",
     "text": [
      "Updating Homebrew...\n",
      "\u001b[34m==>\u001b[0m \u001b[1mAuto-updated Homebrew!\u001b[0m\n",
      "Updated 2 taps (homebrew/core and homebrew/cask).\n",
      "\u001b[34m==>\u001b[0m \u001b[1mNew Formulae\u001b[0m\n",
      "grin            grin-wallet     onefetch        prestosql       tdkjs\n",
      "\u001b[34m==>\u001b[0m \u001b[1mUpdated Formulae\u001b[0m\n",
      "ammonite-repl                            minikube\n",
      "angular-cli                              mm-common\n",
      "arangodb                                 mvnvm\n",
      "atlantis                                 mypy\n",
      "atlassian-cli                            netlify-cli\n",
      "aws-cdk                                  osquery\n",
      "bazelisk                                 paket\n",
      "borgmatic                                pre-commit\n",
      "cheat                                    puzzles\n",
      "cli53                                    py2cairo\n",
      "conan                                    py3cairo\n",
      "deno                                     python-yq\n",
      "dnscrypt-proxy                           quickjs\n",
      "docfx                                    redpen\n",
      "doctl                                    rke\n",
      "erlang                                   rocksdb\n",
      "exploitdb                                serd\n",
      "firebase-cli                             sfk\n",
      "fn                                       simgrid\n",
      "frugal                                   skopeo\n",
      "gatsby-cli                               spatialindex\n",
      "geckodriver                              stgit\n",
      "git-quick-stats                          suricata\n",
      "gitlab-runner                            svgo\n",
      "glooctl                                  swiftformat\n",
      "helmfile                                 sysbench\n",
      "helmsman                                 tfenv\n",
      "influxdb                                 traefik\n",
      "jenkins-lts                              traefik@1\n",
      "kubebuilder                              urweb\n",
      "kubeprod                                 xorriso\n",
      "kubernetes-helm                          youtube-dl\n",
      "libphonenumber                           zita-convolver\n",
      "macvim                                   zrepl\n",
      "mdbook                                   zsh-history-substring-search\n",
      "\u001b[34m==>\u001b[0m \u001b[1mRenamed Formulae\u001b[0m\n",
      "presto -> prestodb\n",
      "\n",
      "\u001b[32m==>\u001b[0m \u001b[1mInstalling dependencies for wget: \u001b[32mgettext\u001b[39m, \u001b[32mlibunistring\u001b[39m, \u001b[32mlibidn2\u001b[39m and \u001b[32mopenssl@1.1\u001b[39m\u001b[0m\n",
      "\u001b[32m==>\u001b[0m \u001b[1mInstalling wget dependency: \u001b[32mgettext\u001b[39m\u001b[0m\n",
      "\u001b[34m==>\u001b[0m \u001b[1mDownloading https://homebrew.bintray.com/bottles/gettext-0.20.1.mojave.bottl\u001b[0m\n",
      "\u001b[34m==>\u001b[0m \u001b[1mDownloading from https://akamai.bintray.com/fa/fa2096f80238b8f4d9f3724d52662\u001b[0m\n",
      "######################################################################## 100.0%\n",
      "\u001b[34m==>\u001b[0m \u001b[1mPouring gettext-0.20.1.mojave.bottle.tar.gz\u001b[0m\n",
      "\u001b[34m==>\u001b[0m \u001b[1mCaveats\u001b[0m\n",
      "gettext is keg-only, which means it was not symlinked into /usr/local,\n",
      "because macOS provides the BSD gettext library & some software gets confused if both are in the library path.\n",
      "\n",
      "If you need to have gettext first in your PATH run:\n",
      "  echo 'export PATH=\"/usr/local/opt/gettext/bin:$PATH\"' >> ~/.bash_profile\n",
      "\n",
      "For compilers to find gettext you may need to set:\n",
      "  export LDFLAGS=\"-L/usr/local/opt/gettext/lib\"\n",
      "  export CPPFLAGS=\"-I/usr/local/opt/gettext/include\"\n",
      "\n",
      "\u001b[34m==>\u001b[0m \u001b[1mSummary\u001b[0m\n",
      "🍺  /usr/local/Cellar/gettext/0.20.1: 1,899 files, 18.5MB\n",
      "\u001b[32m==>\u001b[0m \u001b[1mInstalling wget dependency: \u001b[32mlibunistring\u001b[39m\u001b[0m\n",
      "\u001b[34m==>\u001b[0m \u001b[1mDownloading https://homebrew.bintray.com/bottles/libunistring-0.9.10.mojave.\u001b[0m\n",
      "\u001b[34m==>\u001b[0m \u001b[1mDownloading from https://akamai.bintray.com/1d/1d0c8e266acddcebeef3d9f6162d6\u001b[0m\n",
      "######################################################################## 100.0%\n",
      "\u001b[34m==>\u001b[0m \u001b[1mPouring libunistring-0.9.10.mojave.bottle.tar.gz\u001b[0m\n",
      "🍺  /usr/local/Cellar/libunistring/0.9.10: 54 files, 4.4MB\n",
      "\u001b[32m==>\u001b[0m \u001b[1mInstalling wget dependency: \u001b[32mlibidn2\u001b[39m\u001b[0m\n",
      "\u001b[34m==>\u001b[0m \u001b[1mDownloading https://homebrew.bintray.com/bottles/libidn2-2.2.0_1.mojave.bott\u001b[0m\n",
      "\u001b[34m==>\u001b[0m \u001b[1mDownloading from https://akamai.bintray.com/96/96e9b127a4123a1a4ec67f849467b\u001b[0m\n",
      "######################################################################## 100.0%\n",
      "\u001b[34m==>\u001b[0m \u001b[1mPouring libidn2-2.2.0_1.mojave.bottle.tar.gz\u001b[0m\n",
      "🍺  /usr/local/Cellar/libidn2/2.2.0_1: 70 files, 700.9KB\n",
      "\u001b[32m==>\u001b[0m \u001b[1mInstalling wget dependency: \u001b[32mopenssl@1.1\u001b[39m\u001b[0m\n",
      "\u001b[34m==>\u001b[0m \u001b[1mDownloading https://homebrew.bintray.com/bottles/openssl@1.1-1.1.1d.mojave.b\u001b[0m\n",
      "\u001b[34m==>\u001b[0m \u001b[1mDownloading from https://akamai.bintray.com/10/104ef018b7bb8fcc49f57e5a60359\u001b[0m\n",
      "######################################################################## 100.0%\n",
      "\u001b[34m==>\u001b[0m \u001b[1mPouring openssl@1.1-1.1.1d.mojave.bottle.tar.gz\u001b[0m\n",
      "\u001b[34m==>\u001b[0m \u001b[1mCaveats\u001b[0m\n",
      "A CA file has been bootstrapped using certificates from the system\n",
      "keychain. To add additional certificates, place .pem files in\n",
      "  /usr/local/etc/openssl@1.1/certs\n",
      "\n",
      "and run\n",
      "  /usr/local/opt/openssl@1.1/bin/c_rehash\n",
      "\n",
      "openssl@1.1 is keg-only, which means it was not symlinked into /usr/local,\n",
      "because openssl/libressl is provided by macOS so don't link an incompatible version.\n",
      "\n",
      "If you need to have openssl@1.1 first in your PATH run:\n",
      "  echo 'export PATH=\"/usr/local/opt/openssl@1.1/bin:$PATH\"' >> ~/.bash_profile\n",
      "\n",
      "For compilers to find openssl@1.1 you may need to set:\n",
      "  export LDFLAGS=\"-L/usr/local/opt/openssl@1.1/lib\"\n",
      "  export CPPFLAGS=\"-I/usr/local/opt/openssl@1.1/include\"\n",
      "\n",
      "\u001b[34m==>\u001b[0m \u001b[1mSummary\u001b[0m\n",
      "🍺  /usr/local/Cellar/openssl@1.1/1.1.1d: 7,983 files, 17.9MB\n",
      "\u001b[32m==>\u001b[0m \u001b[1mInstalling \u001b[32mwget\u001b[39m\u001b[0m\n",
      "\u001b[34m==>\u001b[0m \u001b[1mDownloading https://homebrew.bintray.com/bottles/wget-1.20.3_1.mojave.bottle\u001b[0m\n",
      "\u001b[34m==>\u001b[0m \u001b[1mDownloading from https://akamai.bintray.com/9f/9ff925f814c5ef6f742d4a5680da5\u001b[0m\n",
      "######################################################################## 100.0%\n",
      "\u001b[34m==>\u001b[0m \u001b[1mPouring wget-1.20.3_1.mojave.bottle.1.tar.gz\u001b[0m\n",
      "🍺  /usr/local/Cellar/wget/1.20.3_1: 50 files, 4.0MB\n",
      "\u001b[32m==>\u001b[0m \u001b[1mCaveats\u001b[0m\n",
      "\u001b[34m==>\u001b[0m \u001b[1mgettext\u001b[0m\n",
      "gettext is keg-only, which means it was not symlinked into /usr/local,\n",
      "because macOS provides the BSD gettext library & some software gets confused if both are in the library path.\n",
      "\n",
      "If you need to have gettext first in your PATH run:\n",
      "  echo 'export PATH=\"/usr/local/opt/gettext/bin:$PATH\"' >> ~/.bash_profile\n",
      "\n",
      "For compilers to find gettext you may need to set:\n",
      "  export LDFLAGS=\"-L/usr/local/opt/gettext/lib\"\n",
      "  export CPPFLAGS=\"-I/usr/local/opt/gettext/include\"\n",
      "\n",
      "\u001b[34m==>\u001b[0m \u001b[1mopenssl@1.1\u001b[0m\n",
      "A CA file has been bootstrapped using certificates from the system\n",
      "keychain. To add additional certificates, place .pem files in\n",
      "  /usr/local/etc/openssl@1.1/certs\n",
      "\n",
      "and run\n",
      "  /usr/local/opt/openssl@1.1/bin/c_rehash\n",
      "\n",
      "openssl@1.1 is keg-only, which means it was not symlinked into /usr/local,\n",
      "because openssl/libressl is provided by macOS so don't link an incompatible version.\n",
      "\n",
      "If you need to have openssl@1.1 first in your PATH run:\n",
      "  echo 'export PATH=\"/usr/local/opt/openssl@1.1/bin:$PATH\"' >> ~/.bash_profile\n",
      "\n",
      "For compilers to find openssl@1.1 you may need to set:\n",
      "  export LDFLAGS=\"-L/usr/local/opt/openssl@1.1/lib\"\n",
      "  export CPPFLAGS=\"-I/usr/local/opt/openssl@1.1/include\"\n",
      "\n"
     ]
    }
   ],
   "source": [
    "!brew install wget"
   ]
  },
  {
   "cell_type": "code",
   "execution_count": 5,
   "metadata": {},
   "outputs": [
    {
     "name": "stdout",
     "output_type": "stream",
     "text": [
      "--2019-10-30 14:32:23--  https://aqua.kingcounty.gov/extranet/assessor/Real%20Property%20Sales.zip\n",
      "Resolving aqua.kingcounty.gov (aqua.kingcounty.gov)... 146.129.240.28\n",
      "Connecting to aqua.kingcounty.gov (aqua.kingcounty.gov)|146.129.240.28|:443... connected.\n",
      "HTTP request sent, awaiting response... 200 OK\n",
      "Length: 125913704 (120M) [application/x-zip-compressed]\n",
      "Saving to: ‘raw_data/Real Property Sales.zip’\n",
      "\n",
      "Real Property Sales 100%[===================>] 120.08M  2.16MB/s    in 10m 19s \n",
      "\n",
      "2019-10-30 14:42:44 (199 KB/s) - ‘raw_data/Real Property Sales.zip’ saved [125913704/125913704]\n",
      "\n"
     ]
    }
   ],
   "source": [
    "!wget https://aqua.kingcounty.gov/extranet/assessor/Real%20Property%20Sales.zip -P raw_data/"
   ]
  },
  {
   "cell_type": "markdown",
   "metadata": {},
   "source": [
    "Let's inspect the contents of `raw_data` to verify that we have the data"
   ]
  },
  {
   "cell_type": "code",
   "execution_count": 6,
   "metadata": {},
   "outputs": [
    {
     "name": "stdout",
     "output_type": "stream",
     "text": [
      "total 262272\r\n",
      "-rw-r--r--  1 tree  staff  125913704 Oct 26 03:35 Real Property Sales.zip\r\n"
     ]
    }
   ],
   "source": [
    "!ls -l raw_data/"
   ]
  },
  {
   "cell_type": "markdown",
   "metadata": {},
   "source": [
    "### Unzip `raw_data/Real Property Sales.zip`\n",
    "\n",
    "Currently the data lives in a [`.zip`](http://cvs.bio.unc.edu/protocol/unzip-help/unzip-help.htm) file, which is essentially a layer that contains the actual data.\n",
    "\n",
    "To extract - or unpeel - the contents within the `.zip` file, we'll use the [`unzip`](https://formulae.brew.sh/formula/unzip) command. \n",
    "\n",
    "By specifying `-d raw_data/`, we're telling `unzip` to place the contents of `raw_data/Real Property Sales.zip` inside the `raw_data/` directory.\n",
    "\n",
    "*If you don't have `unzip`, uncomment the cell below to have `brew` install it for you.*"
   ]
  },
  {
   "cell_type": "code",
   "execution_count": null,
   "metadata": {},
   "outputs": [],
   "source": [
    "#!brew install unzip"
   ]
  },
  {
   "cell_type": "code",
   "execution_count": 7,
   "metadata": {},
   "outputs": [
    {
     "name": "stdout",
     "output_type": "stream",
     "text": [
      "Archive:  raw_data/Real Property Sales.zip\n",
      "  inflating: raw_data/EXTR_RPSale.csv  \n"
     ]
    }
   ],
   "source": [
    "!unzip raw_data/Real\\ Property\\ Sales.zip -d raw_data/"
   ]
  },
  {
   "cell_type": "markdown",
   "metadata": {},
   "source": [
    "After unzipping `raw_data/Real Property Sales.zip`, we now have access to the `raw_data/EXTR_RPSale.csv`."
   ]
  },
  {
   "cell_type": "code",
   "execution_count": 8,
   "metadata": {},
   "outputs": [
    {
     "name": "stdout",
     "output_type": "stream",
     "text": [
      "total 1335552\r\n",
      "-rw-r--r--  1 tree  staff  543858664 Oct 25 21:57 EXTR_RPSale.csv\r\n",
      "-rw-r--r--  1 tree  staff  125913704 Oct 26 03:35 Real Property Sales.zip\r\n"
     ]
    }
   ],
   "source": [
    "!ls -l raw_data/"
   ]
  },
  {
   "cell_type": "markdown",
   "metadata": {},
   "source": [
    "## Load necessary data\n",
    "\n",
    "> The `csv` module implements classes to read and write tabular data in CSV format. It allows programmers to say, “write this data in the format preferred by Excel,” or “read data from this file which was generated by Excel,” without knowing the precise details of the CSV format used by Excel. - [`csv` documentation](https://docs.python.org/3/library/csv.html)\n",
    "\n",
    "### Using the `csv` library\n",
    "\n",
    "The `csv` library contains objects and other code to read, write, and process data from and to CSV files. Essentially, we want to read each row in the `.csv` file and stores its information for later use. \n",
    "\n",
    "\n",
    "### How `csv` works\n",
    "\n",
    "The [`csv.DictReader()`](https://docs.python.org/3/library/csv.html#csv.DictReader) function creates an object that operates like a regular reader - where information is returned as [strings](https://docs.python.org/3.7/library/stdtypes.html#text-sequence-type-str) - but maps the information in each row to an [OrderedDict](https://docs.python.org/3/library/collections.html#collections.OrderedDict) whose keys are given by the optional `fieldnames` parameter. If `fieldnames` is omitted, the values in the first row of file f will be used as the fieldnames.\n",
    "\n",
    "Since each row is an `OrderedDict` object, we know that information in each dictionary will be in the same order as they appear within the `.csv` file.\n",
    "\n",
    "### Inspect the first two rows in the `raw_data/EXTR_RPSale.csv` file"
   ]
  },
  {
   "cell_type": "code",
   "execution_count": 9,
   "metadata": {},
   "outputs": [
    {
     "name": "stdout",
     "output_type": "stream",
     "text": [
      "\"ExciseTaxNbr\",\"Major\",\"Minor\",\"DocumentDate\",\"SalePrice\",\"RecordingNbr\",\"Volume\",\"Page\",\"PlatNbr\",\"PlatType\",\"PlatLot\",\"PlatBlock\",\"SellerName\",\"BuyerName\",\"PropertyType\",\"PrincipalUse\",\"SaleInstrument\",\"AFForestLand\",\"AFCurrentUseLand\",\"AFNonProfitUse\",\"AFHistoricProperty\",\"SaleReason\",\"PropertyClass\",\"SaleWarning\"\r",
      "\r\n",
      "\"2687551\",\"138860\",\"0110\",\"08/21/2014\",\"245000\",\"20140828001436\",\"   \",\"   \",\"      \",\" \",\"              \",\"       \",\"WENKLE NOEL SMITH -TRUSTEE                        \",\"ALEXANDER APRIL                                   \",\"3\",\"6\",\"3\",\"N\",\"N\",\"N\",\"N\",\"1\",\"8\",\" \"\r",
      "\r\n"
     ]
    }
   ],
   "source": [
    "!head -n 2 raw_data/EXTR_RPSale.csv"
   ]
  },
  {
   "cell_type": "markdown",
   "metadata": {},
   "source": [
    "Now that we know that the first row is the column headers, we can safely omit the `fieldnames` parameter knowing that `csv.DictReader()` will use the first row as the keys within each row."
   ]
  },
  {
   "cell_type": "code",
   "execution_count": 113,
   "metadata": {},
   "outputs": [],
   "source": [
    "import csv\n",
    "\n",
    "sales = []\n",
    "with open(\"raw_data/EXTR_RPSale.csv\") as csvfile:\n",
    "    reader = csv.DictReader(csvfile)\n",
    "    for row in reader:\n",
    "        sales.append(row)"
   ]
  },
  {
   "cell_type": "markdown",
   "metadata": {},
   "source": [
    "The contents of `sales[0]` is exactly the same as it was when we viewed the first two records of the `raw_data/EXTR_RPSale.csv` file from the command line."
   ]
  },
  {
   "cell_type": "code",
   "execution_count": 14,
   "metadata": {},
   "outputs": [
    {
     "data": {
      "text/plain": [
       "OrderedDict([('ExciseTaxNbr', '2687551'),\n",
       "             ('Major', '138860'),\n",
       "             ('Minor', '0110'),\n",
       "             ('DocumentDate', '08/21/2014'),\n",
       "             ('SalePrice', '245000'),\n",
       "             ('RecordingNbr', '20140828001436'),\n",
       "             ('Volume', '   '),\n",
       "             ('Page', '   '),\n",
       "             ('PlatNbr', '      '),\n",
       "             ('PlatType', ' '),\n",
       "             ('PlatLot', '              '),\n",
       "             ('PlatBlock', '       '),\n",
       "             ('SellerName',\n",
       "              'WENKLE NOEL SMITH -TRUSTEE                        '),\n",
       "             ('BuyerName',\n",
       "              'ALEXANDER APRIL                                   '),\n",
       "             ('PropertyType', '3'),\n",
       "             ('PrincipalUse', '6'),\n",
       "             ('SaleInstrument', '3'),\n",
       "             ('AFForestLand', 'N'),\n",
       "             ('AFCurrentUseLand', 'N'),\n",
       "             ('AFNonProfitUse', 'N'),\n",
       "             ('AFHistoricProperty', 'N'),\n",
       "             ('SaleReason', '1'),\n",
       "             ('PropertyClass', '8'),\n",
       "             ('SaleWarning', ' ')])"
      ]
     },
     "execution_count": 14,
     "metadata": {},
     "output_type": "execute_result"
    }
   ],
   "source": [
    "sales[0]"
   ]
  },
  {
   "cell_type": "markdown",
   "metadata": {},
   "source": [
    "## Data Analysis\n",
    "\n",
    "Now that you have all the property sales data from King County, WA within the list `sales`, you can finally start to perform some data analysis."
   ]
  },
  {
   "cell_type": "markdown",
   "metadata": {},
   "source": [
    "### 1. For each year, how many houses were sold?"
   ]
  },
  {
   "cell_type": "markdown",
   "metadata": {},
   "source": [
    "Anytime you encounter questions regarding time, you need to know if your data is in [`datetime`](https://docs.python.org/3.7/library/datetime.html) format. `datetime` objects make it easy to date and time calculation."
   ]
  },
  {
   "cell_type": "code",
   "execution_count": 15,
   "metadata": {},
   "outputs": [],
   "source": [
    "from datetime import datetime"
   ]
  },
  {
   "cell_type": "code",
   "execution_count": 117,
   "metadata": {},
   "outputs": [],
   "source": [
    "for sale in sales:\n",
    "    # transform DocumentDate from string to datetime\n",
    "    sale[\"clean_date\"] = datetime.strptime(sale[\"DocumentDate\"], \n",
    "                                           \"%m/%d/%Y\")\n",
    "    # store the sale year and month\n",
    "    sale[\"sale_year\"] = sale[\"clean_date\"].year\n",
    "    sale[\"sale_month\"] = sale[\"clean_date\"].month"
   ]
  },
  {
   "cell_type": "markdown",
   "metadata": {},
   "source": [
    "Let's inspect our work"
   ]
  },
  {
   "cell_type": "code",
   "execution_count": 118,
   "metadata": {},
   "outputs": [
    {
     "data": {
      "text/plain": [
       "OrderedDict([('ExciseTaxNbr', '2712527'),\n",
       "             ('Major', '131092'),\n",
       "             ('Minor', '0490'),\n",
       "             ('DocumentDate', '02/04/2015'),\n",
       "             ('SalePrice', '15610000'),\n",
       "             ('RecordingNbr', '              '),\n",
       "             ('Volume', '   '),\n",
       "             ('Page', '   '),\n",
       "             ('PlatNbr', '      '),\n",
       "             ('PlatType', ' '),\n",
       "             ('PlatLot', '              '),\n",
       "             ('PlatBlock', '       '),\n",
       "             ('SellerName',\n",
       "              'JUANITA BEACH ASSOCIATES LP                       '),\n",
       "             ('BuyerName',\n",
       "              'RISE PROPERTIES JUANITA BEACH LP                  '),\n",
       "             ('PropertyType', '2'),\n",
       "             ('PrincipalUse', '2'),\n",
       "             ('SaleInstrument', '3'),\n",
       "             ('AFForestLand', 'N'),\n",
       "             ('AFCurrentUseLand', 'N'),\n",
       "             ('AFNonProfitUse', 'N'),\n",
       "             ('AFHistoricProperty', 'N'),\n",
       "             ('SaleReason', '1'),\n",
       "             ('PropertyClass', '3'),\n",
       "             ('SaleWarning', '45'),\n",
       "             ('clean_date', datetime.datetime(2015, 2, 4, 0, 0)),\n",
       "             ('sale_year', 2015),\n",
       "             ('sale_month', 2)])"
      ]
     },
     "execution_count": 118,
     "metadata": {},
     "output_type": "execute_result"
    }
   ],
   "source": [
    "sales[1000]"
   ]
  },
  {
   "cell_type": "markdown",
   "metadata": {},
   "source": [
    "For all dictionaries in `sales`, we want to count how many property sales occured in each year. Since the value in `sale_year` is an integer, we can used Python's built-in [`sorted`](https://docs.python.org/3/library/functions.html#sorted) function to transform the `Counter` object into a `list` of `tuples` - `(year, count)` which are sorted in ascending order by year."
   ]
  },
  {
   "cell_type": "code",
   "execution_count": 18,
   "metadata": {},
   "outputs": [
    {
     "data": {
      "text/plain": [
       "[(1900, 1),\n",
       " (1934, 1),\n",
       " (1951, 1),\n",
       " (1953, 1),\n",
       " (1954, 9),\n",
       " (1955, 3),\n",
       " (1956, 1),\n",
       " (1957, 3),\n",
       " (1958, 1),\n",
       " (1959, 4),\n",
       " (1960, 10),\n",
       " (1961, 5),\n",
       " (1962, 5),\n",
       " (1963, 9),\n",
       " (1964, 20),\n",
       " (1965, 11),\n",
       " (1966, 12),\n",
       " (1967, 18),\n",
       " (1968, 9),\n",
       " (1969, 20),\n",
       " (1970, 17),\n",
       " (1971, 14),\n",
       " (1972, 27),\n",
       " (1973, 45),\n",
       " (1974, 35),\n",
       " (1975, 43),\n",
       " (1976, 62),\n",
       " (1977, 97),\n",
       " (1978, 103),\n",
       " (1979, 124),\n",
       " (1980, 186),\n",
       " (1981, 408),\n",
       " (1982, 6035),\n",
       " (1983, 8607),\n",
       " (1984, 9199),\n",
       " (1985, 10557),\n",
       " (1986, 14627),\n",
       " (1987, 13575),\n",
       " (1988, 14190),\n",
       " (1989, 17232),\n",
       " (1990, 16606),\n",
       " (1991, 17525),\n",
       " (1992, 67859),\n",
       " (1993, 69456),\n",
       " (1994, 64912),\n",
       " (1995, 57982),\n",
       " (1996, 63652),\n",
       " (1997, 72090),\n",
       " (1998, 79578),\n",
       " (1999, 75237),\n",
       " (2000, 69874),\n",
       " (2001, 71261),\n",
       " (2002, 77033),\n",
       " (2003, 86299),\n",
       " (2004, 89383),\n",
       " (2005, 93485),\n",
       " (2006, 84729),\n",
       " (2007, 73250),\n",
       " (2008, 51802),\n",
       " (2009, 52385),\n",
       " (2010, 54688),\n",
       " (2011, 56181),\n",
       " (2012, 62444),\n",
       " (2013, 69403),\n",
       " (2014, 64261),\n",
       " (2015, 68913),\n",
       " (2016, 70421),\n",
       " (2017, 68397),\n",
       " (2018, 61035),\n",
       " (2019, 46157),\n",
       " (2021, 1)]"
      ]
     },
     "execution_count": 18,
     "metadata": {},
     "output_type": "execute_result"
    }
   ],
   "source": [
    "from collections import Counter\n",
    "\n",
    "sale_year_count = Counter([sale['sale_year'] for sale in sales])\n",
    "sale_year_count = sorted(sale_year_count.items())\n",
    "sale_year_count"
   ]
  },
  {
   "cell_type": "markdown",
   "metadata": {},
   "source": [
    "This `list` of `tuples` is not something our employers can use to make a decision. Before we visualize the results, let's create a new `visuals` folder that will store all of our visuals."
   ]
  },
  {
   "cell_type": "code",
   "execution_count": 19,
   "metadata": {},
   "outputs": [],
   "source": [
    "!mkdir visuals"
   ]
  },
  {
   "cell_type": "code",
   "execution_count": 20,
   "metadata": {},
   "outputs": [],
   "source": [
    "from matplotlib import pyplot as plt"
   ]
  },
  {
   "cell_type": "code",
   "execution_count": 21,
   "metadata": {},
   "outputs": [
    {
     "data": {
      "image/png": "[encoded data removed]",
      "text/plain": [
       "<Figure size 720x360 with 1 Axes>"
      ]
     },
     "metadata": {
      "needs_background": "light"
     },
     "output_type": "display_data"
    }
   ],
   "source": [
    "# create a figure and one plot\n",
    "fig, ax = plt.subplots(nrows=1, ncols=1, figsize=(10, 5))\n",
    "\n",
    "# place data in a bar chart \n",
    "# where the x-axis is each year and \n",
    "# the y-axis is the number of sales per year\n",
    "ax.bar(x=[sale[0] for sale in sale_year_count],\n",
    "       height=[sale[1] for sale in sale_year_count])\n",
    "\n",
    "# set axis labels\n",
    "ax.set_xlabel(\"Year\")\n",
    "ax.set_ylabel(\"Number of property sales\")\n",
    "\n",
    "# give the bar chart a title\n",
    "ax.set_title(\"Property sales in King County, WA (1900 to 2021)\")\n",
    "\n",
    "# save a copy of the figure as a PNG\n",
    "fig.savefig(\"visuals/raw_sales_count_by_year.png\",\n",
    "            dpi=150)\n",
    "\n",
    "# display bar chart clearly\n",
    "fig.tight_layout()"
   ]
  },
  {
   "cell_type": "markdown",
   "metadata": {},
   "source": [
    "By the looks of our number of property sales over time bar plot, it looks like property sales in King County, WA started taking off in the 1980s. They continued climbing into the early 2000s. Despite the recession reducing the number of home sales in the late 2000s, it looks like they are continuing to climb."
   ]
  },
  {
   "cell_type": "markdown",
   "metadata": {},
   "source": [
    "### 2. After removing the one record that took place in 2021, what is the annual average [nominal](https://www.stlouisfed.org/publications/inside-the-vault/fall-2007/nominal-vs-real-oil-prices) property sales price in King County, WA?"
   ]
  },
  {
   "cell_type": "code",
   "execution_count": 146,
   "metadata": {},
   "outputs": [
    {
     "name": "stdout",
     "output_type": "stream",
     "text": [
      "[(2014, 2620000.0), (1991, 0.0), (2013, 285123.0), (1989, 85000.0), (2003, 180000.0), (2001, 97835000.0), (2006, 2049576.0), (2012, 335000.0), (1998, 744900.0), (2008, 0.0), (2000, 294900.0), (2015, 190000.0), (1999, 790102.0), (2004, 206758000.0), (1983, 91500.0), (1982, 0.0), (1987, 37500.0), (2017, 720000.0), (1990, 0.0), (2009, 40067000.0), (2002, 31000.0), (2005, 173200000.0), (2019, 377000.0), (1992, 137000.0), (2016, 133000.0), (2011, 107000.0), (1997, 733530.0), (1993, 905000.0), (1988, 40000.0), (1995, 164500.0), (2010, 0.0), (1996, 615741000.0)]\n"
     ]
    }
   ],
   "source": [
    "# len(sales) #2051626\n",
    "\n",
    "# sales_slice = sales[0:300]\n",
    "\n",
    "###This Removed the 2021 Sale\n",
    "# for sale in sales:\n",
    "#     if sale['sale_year'] == 2021:\n",
    "#         sales.remove(sale)\n",
    "# len(sales)\n",
    "\n",
    "\n",
    "# ###The Below solved the problem, but was taken from the internet. Will try a for loop method below\n",
    "# sales_list = []\n",
    "# for sale in sales:\n",
    "#     sales_list.append((sale['sale_year'], sale['SalePrice']))\n",
    "\n",
    "    \n",
    "# # data used from https://stackoverflow.com/questions/35189438/how-to-sum-up-a-list-of-tuples-having-the-same-first-element\n",
    "# convert_to_dict = { k:v for k,v in sales_list }\n",
    "# print(len(convert_to_dict))\n",
    "# tuples_of_sums = [(i,sum( int(v) for k,v in sales_list if k == i )) for i in convert_to_dict.keys() ]\n",
    "\n",
    "# sorted_sums = sorted(tuples_of_sums)\n",
    "# print(sorted_sums)\n",
    "\n",
    "\n",
    "##this is the attempt at a for method\n",
    "sales_slice = sales[0:300]\n",
    "\n",
    "sales_list = []\n",
    "for sale in sales_slice:\n",
    "    sales_list.append((sale['sale_year'], int(sale['SalePrice'])))\n",
    "    \n",
    "    \n",
    "# sales_dict = {}\n",
    "\n",
    "# for sale in sales_list:\n",
    "#     sales_dict.update({sale[0]: None})\n",
    "    \n",
    "# for year, price in sales_list:\n",
    "    \n",
    "\n",
    "\n",
    "    \n",
    "    \n",
    "# sales_dict = {}    \n",
    "# for tup in sales_list:\n",
    "#     sales_dict.update({str(tup[0]): int(tup[1])})\n",
    "    \n",
    "\n",
    "    \n",
    "    \n",
    "## trying to make a dict where k = year, v = list of sale prices    \n",
    "\n",
    "# sales_slice = sales[0:300]\n",
    "# sales_dict = {}\n",
    "# for sale in sales_slice:\n",
    "#     sales_dict.update({str(sale['sale_year']): None})\n",
    "    \n",
    "# print(sales_dict)    \n",
    "    \n",
    "    \n",
    "\n",
    "    "
   ]
  },
  {
   "cell_type": "markdown",
   "metadata": {},
   "source": [
    "### 3. Which property has been sold the most in King County, WA throughout time?\n",
    "\n",
    "This questions requires you to create a <strong>P</strong>arcel <strong>I</strong>dentification <strong>N</strong>umber (PIN). To learn how to do this, read the \"Attribute Information\" section on the Parcel webpage from the [King County Geographic Information System (KCGI)](https://www5.kingcounty.gov/sdc/Metadata.aspx?Layer=parcel)."
   ]
  },
  {
   "cell_type": "code",
   "execution_count": null,
   "metadata": {},
   "outputs": [],
   "source": [
    "most_bought_parcel = Counter([sale['sale_year'] for sale in sales])\n",
    "sale_year_count = sorted(sale_year_count.items())\n",
    "sale_year_count"
   ]
  },
  {
   "cell_type": "markdown",
   "metadata": {},
   "source": [
    "### 4. Who are the top 5 sellers in terms of who has sold the most property in King County, WA throughout time?"
   ]
  },
  {
   "cell_type": "code",
   "execution_count": 111,
   "metadata": {},
   "outputs": [
    {
     "data": {
      "text/plain": [
       "OrderedDict([('ExciseTaxNbr', '788309'),\n",
       "             ('Major', '921150'),\n",
       "             ('Minor', '0180'),\n",
       "             ('DocumentDate', '08/14/1984'),\n",
       "             ('SalePrice', '67000'),\n",
       "             ('RecordingNbr', '198408150601  '),\n",
       "             ('Volume', '105'),\n",
       "             ('Page', '017'),\n",
       "             ('PlatNbr', '921150'),\n",
       "             ('PlatType', 'P'),\n",
       "             ('PlatLot', '18            '),\n",
       "             ('PlatBlock', '       '),\n",
       "             ('SellerName',\n",
       "              'FOUST LEWIS G                                     '),\n",
       "             ('BuyerName',\n",
       "              'CURTIS RONALD D+MARILYN M                         '),\n",
       "             ('PropertyType', '3'),\n",
       "             ('PrincipalUse', '0'),\n",
       "             ('SaleInstrument', '2'),\n",
       "             ('AFForestLand', 'N'),\n",
       "             ('AFCurrentUseLand', 'N'),\n",
       "             ('AFNonProfitUse', 'N'),\n",
       "             ('AFHistoricProperty', ' '),\n",
       "             ('SaleReason', '1'),\n",
       "             ('PropertyClass', '8'),\n",
       "             ('SaleWarning', ' '),\n",
       "             ('clean_date', datetime.datetime(1984, 8, 14, 0, 0)),\n",
       "             ('sale_year', 1984),\n",
       "             ('sale_month', 8)])"
      ]
     },
     "execution_count": 111,
     "metadata": {},
     "output_type": "execute_result"
    }
   ],
   "source": []
  },
  {
   "cell_type": "markdown",
   "metadata": {},
   "source": [
    "### 5. From 2009 to 2019, which buyer has bought the most property in King County, WA?"
   ]
  },
  {
   "cell_type": "code",
   "execution_count": null,
   "metadata": {},
   "outputs": [],
   "source": []
  }
 ],
 "metadata": {
  "kernelspec": {
   "display_name": "Python (learn-env)",
   "language": "python",
   "name": "learn-env"
  },
  "language_info": {
   "codemirror_mode": {
    "name": "ipython",
    "version": 3
   },
   "file_extension": ".py",
   "mimetype": "text/x-python",
   "name": "python",
   "nbconvert_exporter": "python",
   "pygments_lexer": "ipython3",
   "version": "3.6.6"
  }
 },
 "nbformat": 4,
 "nbformat_minor": 2
}
